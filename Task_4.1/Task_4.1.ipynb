{
 "cells": [
  {
   "cell_type": "code",
   "execution_count": 1,
   "metadata": {},
   "outputs": [],
   "source": [
    "import pandas as pd\n",
    "import numpy as np\n",
    "import os"
   ]
  },
  {
   "cell_type": "code",
   "execution_count": 2,
   "metadata": {
    "collapsed": true
   },
   "outputs": [],
   "source": [
    "def names_file(file_year):\n",
    "    PATH_TO_NAMES = \"C:\\\\Users\\\\besonick\\\\Documents\\\\Repository\\\\netology\\\\Task_4.1\\\\names\"\n",
    "    names_file = os.path.join(PATH_TO_NAMES, '.'.join(('yob' + str(file_year), 'txt')))\n",
    "    return names_file"
   ]
  },
  {
   "cell_type": "code",
   "execution_count": 3,
   "metadata": {
    "collapsed": true
   },
   "outputs": [],
   "source": [
    "def count_top3(years):\n",
    "    cols = ['Name','Gender','Count']\n",
    "    names_list = []\n",
    "    for year in years:\n",
    "        names_year = pd.read_csv(names_file(year), names=cols)\n",
    "        names_list.append(names_year)\n",
    "    names_all = pd.concat(names_list)\n",
    "    top3_names = names_all.groupby('Name').sum().sort_values(by='Count', ascending=False).head(3)\n",
    "    return list(top3_names.index)"
   ]
  },
  {
   "cell_type": "code",
   "execution_count": 4,
   "metadata": {
    "scrolled": true
   },
   "outputs": [
    {
     "data": {
      "text/plain": [
       "['Mary', 'John', 'William']"
      ]
     },
     "execution_count": 4,
     "metadata": {},
     "output_type": "execute_result"
    }
   ],
   "source": [
    "years = [1890]\n",
    "count_top3(years)"
   ]
  },
  {
   "cell_type": "code",
   "execution_count": 5,
   "metadata": {},
   "outputs": [
    {
     "data": {
      "text/plain": [
       "['James', 'John', 'Robert']"
      ]
     },
     "execution_count": 5,
     "metadata": {},
     "output_type": "execute_result"
    }
   ],
   "source": [
    "years = [1900, 1950, 2000]\n",
    "count_top3(years)"
   ]
  },
  {
   "cell_type": "code",
   "execution_count": 6,
   "metadata": {
    "collapsed": true
   },
   "outputs": [],
   "source": [
    "def count_dynamics(years):\n",
    "    cols = ['Name','Gender','Count']\n",
    "    males_list = []\n",
    "    females_list = []\n",
    "    for year in years:\n",
    "        names_year = pd.read_csv(names_file(year), names=cols)\n",
    "        males = names_year[names_year.Gender=='M'].Count.sum()\n",
    "        males_list.append(males)\n",
    "        females = names_year[names_year.Gender=='F'].Count.sum()\n",
    "        females_list.append(females)\n",
    "    dynamics_dict = {'M': males_list, 'F': females_list}\n",
    "    return dynamics_dict"
   ]
  },
  {
   "cell_type": "code",
   "execution_count": 7,
   "metadata": {},
   "outputs": [
    {
     "data": {
      "text/plain": [
       "{'F': [299810, 1713259, 1814922], 'M': [150486, 1790871, 1962744]}"
      ]
     },
     "execution_count": 7,
     "metadata": {},
     "output_type": "execute_result"
    }
   ],
   "source": [
    "years = [1900, 1950, 2000]\n",
    "count_dynamics(years)"
   ]
  }
 ],
 "metadata": {
  "kernelspec": {
   "display_name": "Python 3",
   "language": "python",
   "name": "python3"
  },
  "language_info": {
   "codemirror_mode": {
    "name": "ipython",
    "version": 3.0
   },
   "file_extension": ".py",
   "mimetype": "text/x-python",
   "name": "python",
   "nbconvert_exporter": "python",
   "pygments_lexer": "ipython3",
   "version": "3.6.1"
  }
 },
 "nbformat": 4,
 "nbformat_minor": 0
}